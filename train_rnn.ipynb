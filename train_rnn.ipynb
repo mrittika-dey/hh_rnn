{
 "cells": [
  {
   "cell_type": "code",
   "execution_count": 199,
   "id": "0a3d48a9-ece9-4e9e-86b6-7bca85a4a856",
   "metadata": {},
   "outputs": [],
   "source": [
    "import jax.numpy as np\n",
    "import numpy as NP\n",
    "from jax.nn import one_hot,sigmoid\n",
    "from functools import partial\n",
    "from jax import random,vmap,value_and_grad\n",
    "import matplotlib.pyplot as plt\n",
    "from tqdm.notebook import tqdm\n",
    "import optax\n",
    "import pickle as pkl\n",
    "\n",
    "from rnn_init import *\n",
    "from rnn_run import *\n",
    "from utils import *\n",
    "from plot_tools import *"
   ]
  },
  {
   "cell_type": "code",
   "execution_count": 200,
   "id": "f2155738-b20c-4fce-a3cd-bc511360ab32",
   "metadata": {},
   "outputs": [],
   "source": [
    "def load_from_text():\n",
    "    \"\"\"\n",
    "    Loads text file where the first line is current values\n",
    "    Rest of the lines are voltage traces.\n",
    "    \"\"\"\n",
    "    import numpy as np\n",
    "    with open('camp_proj.txt','r') as f:\n",
    "        lines = f.readlines()\n",
    "    values = []\n",
    "    for line in lines:\n",
    "        val=line.split(',')[:-2]\n",
    "        val = NP.array(val).astype(float)\n",
    "        values.append(val)\n",
    "    stim = values[0]\n",
    "    return stim,np.stack(values[1:])"
   ]
  },
  {
   "cell_type": "code",
   "execution_count": 201,
   "id": "df923474-94e6-4c32-8569-8df021adfd14",
   "metadata": {},
   "outputs": [
    {
     "data": {
      "image/png": "[encoded data removed]",
      "text/plain": [
       "<Figure size 432x288 with 1 Axes>"
      ]
     },
     "metadata": {
      "needs_background": "light"
     },
     "output_type": "display_data"
    }
   ],
   "source": [
    "stim,values = load_from_text()\n",
    "l=plt.plot(values[:2,:].T)\n",
    "\n",
    "#def get_inptraces_from_stim(stim):\n",
    "    "
   ]
  },
  {
   "cell_type": "code",
   "execution_count": 202,
   "id": "e24341a9-69c9-4165-be51-e3b407e34e28",
   "metadata": {},
   "outputs": [],
   "source": [
    "seed = 1\n",
    "key = random.PRNGKey(seed)\n",
    "#key,skey = random.split(key)\n",
    "key,skeys = genkeys_array(key,1)\n",
    "#params = init_vanilla_rnn_params(key,2,2,1)\n",
    "#params = init_gru_rnn_params(skey,1,2,1)"
   ]
  },
  {
   "cell_type": "code",
   "execution_count": 203,
   "id": "60000994-0b08-4f6a-b9db-4fbac60963c2",
   "metadata": {},
   "outputs": [],
   "source": [
    "#params['wO'] = np.array([[1.0,0.0]])"
   ]
  },
  {
   "cell_type": "code",
   "execution_count": 204,
   "id": "b03e06f0-a7d2-412e-ba67-69d6b23747a6",
   "metadata": {},
   "outputs": [
    {
     "name": "stdout",
     "output_type": "stream",
     "text": [
      "None\n"
     ]
    }
   ],
   "source": [
    "rnn_run,init_rnn,param_keys = get_rnn_and_init_keys_funcs(run_type='run',arch='CTVanilla',trial_dims=1,param_dims=1)\n",
    "params = init_rnn(skeys,1,2,1)"
   ]
  },
  {
   "cell_type": "code",
   "execution_count": 205,
   "id": "20a32755-5bf2-45c8-9ba6-95d8081ad17b",
   "metadata": {},
   "outputs": [
    {
     "name": "stdout",
     "output_type": "stream",
     "text": [
      "None\n"
     ]
    },
    {
     "data": {
      "text/plain": [
       "(1, 11, 11, 2, 2)"
      ]
     },
     "execution_count": 205,
     "metadata": {},
     "output_type": "execute_result"
    }
   ],
   "source": [
    "rnn,_,_ = get_rnn_and_init_keys_funcs(run_type='rnn',arch='CTVanilla',trial_dims=2,param_dims=1)\n",
    "grid_s = 11\n",
    "I = np.zeros((grid_s,grid_s,1,1))\n",
    "h = np.zeros((grid_s,grid_s,2,1))\n",
    "out = rnn(params,h,I)\n",
    "out.shape"
   ]
  },
  {
   "cell_type": "code",
   "execution_count": 206,
   "id": "9b935b91-2c68-4b75-903a-809d7f0ef6f1",
   "metadata": {
    "collapsed": true,
    "jupyter": {
     "outputs_hidden": true
    },
    "tags": []
   },
   "outputs": [
    {
     "name": "stdout",
     "output_type": "stream",
     "text": [
      "None\n"
     ]
    },
    {
     "ename": "ValueError",
     "evalue": "vmap in_axes specification must be a tree prefix of the corresponding value, got specification ({'wI': 0, 'wR': 0, 'wO': 0, 'bR': 0}, None, None) for value tree PyTreeDef(({'bR': *, 'wI': *, 'wO': *, 'wR': *}, *)).",
     "output_type": "error",
     "traceback": [
      "\u001b[0;31m---------------------------------------------------------------------------\u001b[0m",
      "\u001b[0;31mValueError\u001b[0m                                Traceback (most recent call last)",
      "\u001b[0;32m/var/folders/3w/z1hn2fsd0k76_7hjr7ntyz9r0000gn/T/ipykernel_61272/4220598004.py\u001b[0m in \u001b[0;36m<module>\u001b[0;34m\u001b[0m\n\u001b[1;32m      1\u001b[0m \u001b[0mrnn\u001b[0m\u001b[0;34m,\u001b[0m\u001b[0m_\u001b[0m\u001b[0;34m,\u001b[0m\u001b[0m_\u001b[0m \u001b[0;34m=\u001b[0m \u001b[0mget_rnn_and_init_keys_funcs\u001b[0m\u001b[0;34m(\u001b[0m\u001b[0mrun_type\u001b[0m\u001b[0;34m=\u001b[0m\u001b[0;34m'rnn'\u001b[0m\u001b[0;34m,\u001b[0m\u001b[0march\u001b[0m\u001b[0;34m=\u001b[0m\u001b[0;34m'CTVanilla'\u001b[0m\u001b[0;34m,\u001b[0m\u001b[0mtrial_dims\u001b[0m\u001b[0;34m=\u001b[0m\u001b[0;36m0\u001b[0m\u001b[0;34m,\u001b[0m\u001b[0mparam_dims\u001b[0m\u001b[0;34m=\u001b[0m\u001b[0;36m1\u001b[0m\u001b[0;34m)\u001b[0m\u001b[0;34m\u001b[0m\u001b[0;34m\u001b[0m\u001b[0m\n\u001b[0;32m----> 2\u001b[0;31m \u001b[0mrnn\u001b[0m\u001b[0;34m(\u001b[0m\u001b[0mparams\u001b[0m\u001b[0;34m,\u001b[0m\u001b[0mnp\u001b[0m\u001b[0;34m.\u001b[0m\u001b[0marange\u001b[0m\u001b[0;34m(\u001b[0m\u001b[0;36m10\u001b[0m\u001b[0;34m)\u001b[0m\u001b[0;34m)\u001b[0m\u001b[0;34m\u001b[0m\u001b[0;34m\u001b[0m\u001b[0m\n\u001b[0m",
      "    \u001b[0;31m[... skipping hidden 2 frame]\u001b[0m\n",
      "\u001b[0;32m/opt/homebrew/Caskroom/miniforge/base/lib/python3.9/site-packages/jax/_src/api_util.py\u001b[0m in \u001b[0;36mflatten_axes\u001b[0;34m(name, treedef, axis_tree, kws, tupled_args)\u001b[0m\n\u001b[1;32m    413\u001b[0m                    \u001b[0;34mf\"means that {name} might need to be wrapped in \"\u001b[0m\u001b[0;34m\u001b[0m\u001b[0;34m\u001b[0m\u001b[0m\n\u001b[1;32m    414\u001b[0m                    f\"a singleton tuple.\")\n\u001b[0;32m--> 415\u001b[0;31m     raise ValueError(f\"{name} specification must be a tree prefix of the \"\n\u001b[0m\u001b[1;32m    416\u001b[0m                      \u001b[0;34mf\"corresponding value, got specification {axis_tree} \"\u001b[0m\u001b[0;34m\u001b[0m\u001b[0;34m\u001b[0m\u001b[0m\n\u001b[1;32m    417\u001b[0m                      f\"for value tree {treedef}.{hint}\") from None\n",
      "\u001b[0;31mValueError\u001b[0m: vmap in_axes specification must be a tree prefix of the corresponding value, got specification ({'wI': 0, 'wR': 0, 'wO': 0, 'bR': 0}, None, None) for value tree PyTreeDef(({'bR': *, 'wI': *, 'wO': *, 'wR': *}, *))."
     ]
    }
   ],
   "source": [
    "rnn,_,_ = get_rnn_and_init_keys_funcs(run_type='rnn',arch='CTVanilla',trial_dims=0,param_dims=1)\n",
    "rnn(params,np.arange(10))"
   ]
  },
  {
   "cell_type": "code",
   "execution_count": 207,
   "id": "e1443157-a509-417c-9fc8-6778271426b0",
   "metadata": {
    "collapsed": true,
    "jupyter": {
     "outputs_hidden": true
    },
    "tags": []
   },
   "outputs": [
    {
     "ename": "TypeError",
     "evalue": "Cannot concatenate arrays with shapes that differ in dimensions other than the one being concatenated: concatenating along dimension 0 for shapes (11, 11, 1, 1), (11, 11, 2, 1).",
     "output_type": "error",
     "traceback": [
      "\u001b[0;31m---------------------------------------------------------------------------\u001b[0m",
      "\u001b[0;31mTypeError\u001b[0m                                 Traceback (most recent call last)",
      "\u001b[0;32m/var/folders/3w/z1hn2fsd0k76_7hjr7ntyz9r0000gn/T/ipykernel_61272/758052690.py\u001b[0m in \u001b[0;36m<module>\u001b[0;34m\u001b[0m\n\u001b[1;32m      1\u001b[0m \u001b[0mh\u001b[0m \u001b[0;34m=\u001b[0m \u001b[0mnp\u001b[0m\u001b[0;34m.\u001b[0m\u001b[0mlinspace\u001b[0m\u001b[0;34m(\u001b[0m\u001b[0;34m-\u001b[0m\u001b[0;36m1\u001b[0m\u001b[0;34m,\u001b[0m\u001b[0;36m1\u001b[0m\u001b[0;34m,\u001b[0m\u001b[0mgrid_s\u001b[0m\u001b[0;34m)\u001b[0m\u001b[0;34m\u001b[0m\u001b[0;34m\u001b[0m\u001b[0m\n\u001b[1;32m      2\u001b[0m \u001b[0mH\u001b[0m \u001b[0;34m=\u001b[0m \u001b[0mnp\u001b[0m\u001b[0;34m.\u001b[0m\u001b[0mstack\u001b[0m\u001b[0;34m(\u001b[0m\u001b[0mnp\u001b[0m\u001b[0;34m.\u001b[0m\u001b[0mmeshgrid\u001b[0m\u001b[0;34m(\u001b[0m\u001b[0mh\u001b[0m\u001b[0;34m,\u001b[0m\u001b[0mh\u001b[0m\u001b[0;34m)\u001b[0m\u001b[0;34m,\u001b[0m\u001b[0;34m-\u001b[0m\u001b[0;36m1\u001b[0m\u001b[0;34m)\u001b[0m\u001b[0;34m[\u001b[0m\u001b[0;34m...\u001b[0m\u001b[0;34m,\u001b[0m\u001b[0;32mNone\u001b[0m\u001b[0;34m]\u001b[0m\u001b[0;34m\u001b[0m\u001b[0;34m\u001b[0m\u001b[0m\n\u001b[0;32m----> 3\u001b[0;31m \u001b[0mrnn\u001b[0m\u001b[0;34m(\u001b[0m\u001b[0mparams\u001b[0m\u001b[0;34m,\u001b[0m\u001b[0mH\u001b[0m\u001b[0;34m,\u001b[0m\u001b[0mI\u001b[0m\u001b[0;34m)\u001b[0m\u001b[0;34m.\u001b[0m\u001b[0mshape\u001b[0m\u001b[0;34m\u001b[0m\u001b[0;34m\u001b[0m\u001b[0m\n\u001b[0m",
      "    \u001b[0;31m[... skipping hidden 3 frame]\u001b[0m\n",
      "\u001b[0;32m~/Documents/CAMPncbs2022/project/rnn_run.py\u001b[0m in \u001b[0;36mcont_vanilla_rnn\u001b[0;34m(params, h, x)\u001b[0m\n\u001b[1;32m     54\u001b[0m         \u001b[0mdt\u001b[0m \u001b[0;34m=\u001b[0m \u001b[0;36m0.1\u001b[0m\u001b[0;34m\u001b[0m\u001b[0;34m\u001b[0m\u001b[0m\n\u001b[1;32m     55\u001b[0m         \u001b[0mcpar\u001b[0m \u001b[0;34m=\u001b[0m \u001b[0mnp\u001b[0m\u001b[0;34m.\u001b[0m\u001b[0mconcatenate\u001b[0m\u001b[0;34m(\u001b[0m\u001b[0;34m[\u001b[0m\u001b[0mparams\u001b[0m\u001b[0;34m[\u001b[0m\u001b[0;34m'wI'\u001b[0m\u001b[0;34m]\u001b[0m\u001b[0;34m,\u001b[0m\u001b[0mparams\u001b[0m\u001b[0;34m[\u001b[0m\u001b[0;34m'wR'\u001b[0m\u001b[0;34m]\u001b[0m\u001b[0;34m]\u001b[0m\u001b[0;34m,\u001b[0m\u001b[0;36m1\u001b[0m\u001b[0;34m)\u001b[0m\u001b[0;34m\u001b[0m\u001b[0;34m\u001b[0m\u001b[0m\n\u001b[0;32m---> 56\u001b[0;31m         \u001b[0mcI\u001b[0m \u001b[0;34m=\u001b[0m \u001b[0mnp\u001b[0m\u001b[0;34m.\u001b[0m\u001b[0mconcatenate\u001b[0m\u001b[0;34m(\u001b[0m\u001b[0;34m[\u001b[0m\u001b[0mx\u001b[0m\u001b[0;34m,\u001b[0m\u001b[0mh\u001b[0m\u001b[0;34m]\u001b[0m\u001b[0;34m,\u001b[0m\u001b[0;36m0\u001b[0m\u001b[0;34m)\u001b[0m\u001b[0;34m\u001b[0m\u001b[0;34m\u001b[0m\u001b[0m\n\u001b[0m\u001b[1;32m     57\u001b[0m         \u001b[0ma\u001b[0m \u001b[0;34m=\u001b[0m \u001b[0mnp\u001b[0m\u001b[0;34m.\u001b[0m\u001b[0mdot\u001b[0m\u001b[0;34m(\u001b[0m\u001b[0mcpar\u001b[0m\u001b[0;34m,\u001b[0m\u001b[0mcI\u001b[0m\u001b[0;34m)\u001b[0m \u001b[0;34m+\u001b[0m \u001b[0mparams\u001b[0m\u001b[0;34m[\u001b[0m\u001b[0;34m'bR'\u001b[0m\u001b[0;34m]\u001b[0m\u001b[0;34m\u001b[0m\u001b[0;34m\u001b[0m\u001b[0m\n\u001b[1;32m     58\u001b[0m         \u001b[0mh_dot\u001b[0m \u001b[0;34m=\u001b[0m \u001b[0;34m-\u001b[0m\u001b[0mh\u001b[0m \u001b[0;34m+\u001b[0m \u001b[0mphi\u001b[0m\u001b[0;34m(\u001b[0m\u001b[0ma\u001b[0m\u001b[0;34m)\u001b[0m\u001b[0;34m\u001b[0m\u001b[0;34m\u001b[0m\u001b[0m\n",
      "\u001b[0;32m/opt/homebrew/Caskroom/miniforge/base/lib/python3.9/site-packages/jax/_src/numpy/lax_numpy.py\u001b[0m in \u001b[0;36mconcatenate\u001b[0;34m(arrays, axis)\u001b[0m\n\u001b[1;32m   1681\u001b[0m   \u001b[0;32melse\u001b[0m\u001b[0;34m:\u001b[0m\u001b[0;34m\u001b[0m\u001b[0;34m\u001b[0m\u001b[0m\n\u001b[1;32m   1682\u001b[0m     \u001b[0;32mwhile\u001b[0m \u001b[0mlen\u001b[0m\u001b[0;34m(\u001b[0m\u001b[0marrays\u001b[0m\u001b[0;34m)\u001b[0m \u001b[0;34m>\u001b[0m \u001b[0;36m1\u001b[0m\u001b[0;34m:\u001b[0m\u001b[0;34m\u001b[0m\u001b[0;34m\u001b[0m\u001b[0m\n\u001b[0;32m-> 1683\u001b[0;31m       arrays = [lax.concatenate(arrays[i:i+k], axis)\n\u001b[0m\u001b[1;32m   1684\u001b[0m                 for i in range(0, len(arrays), k)]\n\u001b[1;32m   1685\u001b[0m     \u001b[0;32mreturn\u001b[0m \u001b[0marrays\u001b[0m\u001b[0;34m[\u001b[0m\u001b[0;36m0\u001b[0m\u001b[0;34m]\u001b[0m\u001b[0;34m\u001b[0m\u001b[0;34m\u001b[0m\u001b[0m\n",
      "\u001b[0;32m/opt/homebrew/Caskroom/miniforge/base/lib/python3.9/site-packages/jax/_src/numpy/lax_numpy.py\u001b[0m in \u001b[0;36m<listcomp>\u001b[0;34m(.0)\u001b[0m\n\u001b[1;32m   1681\u001b[0m   \u001b[0;32melse\u001b[0m\u001b[0;34m:\u001b[0m\u001b[0;34m\u001b[0m\u001b[0;34m\u001b[0m\u001b[0m\n\u001b[1;32m   1682\u001b[0m     \u001b[0;32mwhile\u001b[0m \u001b[0mlen\u001b[0m\u001b[0;34m(\u001b[0m\u001b[0marrays\u001b[0m\u001b[0;34m)\u001b[0m \u001b[0;34m>\u001b[0m \u001b[0;36m1\u001b[0m\u001b[0;34m:\u001b[0m\u001b[0;34m\u001b[0m\u001b[0;34m\u001b[0m\u001b[0m\n\u001b[0;32m-> 1683\u001b[0;31m       arrays = [lax.concatenate(arrays[i:i+k], axis)\n\u001b[0m\u001b[1;32m   1684\u001b[0m                 for i in range(0, len(arrays), k)]\n\u001b[1;32m   1685\u001b[0m     \u001b[0;32mreturn\u001b[0m \u001b[0marrays\u001b[0m\u001b[0;34m[\u001b[0m\u001b[0;36m0\u001b[0m\u001b[0;34m]\u001b[0m\u001b[0;34m\u001b[0m\u001b[0;34m\u001b[0m\u001b[0m\n",
      "    \u001b[0;31m[... skipping hidden 22 frame]\u001b[0m\n",
      "\u001b[0;32m/opt/homebrew/Caskroom/miniforge/base/lib/python3.9/site-packages/jax/_src/lax/lax.py\u001b[0m in \u001b[0;36m_concatenate_shape_rule\u001b[0;34m(*operands, **kwargs)\u001b[0m\n\u001b[1;32m   2856\u001b[0m            \"dimension {} for shapes {}.\")\n\u001b[1;32m   2857\u001b[0m     \u001b[0mshapes\u001b[0m \u001b[0;34m=\u001b[0m \u001b[0;34m[\u001b[0m\u001b[0moperand\u001b[0m\u001b[0;34m.\u001b[0m\u001b[0mshape\u001b[0m \u001b[0;32mfor\u001b[0m \u001b[0moperand\u001b[0m \u001b[0;32min\u001b[0m \u001b[0moperands\u001b[0m\u001b[0;34m]\u001b[0m\u001b[0;34m\u001b[0m\u001b[0;34m\u001b[0m\u001b[0m\n\u001b[0;32m-> 2858\u001b[0;31m     \u001b[0;32mraise\u001b[0m \u001b[0mTypeError\u001b[0m\u001b[0;34m(\u001b[0m\u001b[0mmsg\u001b[0m\u001b[0;34m.\u001b[0m\u001b[0mformat\u001b[0m\u001b[0;34m(\u001b[0m\u001b[0mdimension\u001b[0m\u001b[0;34m,\u001b[0m \u001b[0;34m\", \"\u001b[0m\u001b[0;34m.\u001b[0m\u001b[0mjoin\u001b[0m\u001b[0;34m(\u001b[0m\u001b[0mmap\u001b[0m\u001b[0;34m(\u001b[0m\u001b[0mstr\u001b[0m\u001b[0;34m,\u001b[0m \u001b[0mshapes\u001b[0m\u001b[0;34m)\u001b[0m\u001b[0;34m)\u001b[0m\u001b[0;34m)\u001b[0m\u001b[0;34m)\u001b[0m\u001b[0;34m\u001b[0m\u001b[0;34m\u001b[0m\u001b[0m\n\u001b[0m\u001b[1;32m   2859\u001b[0m \u001b[0;34m\u001b[0m\u001b[0m\n\u001b[1;32m   2860\u001b[0m   \u001b[0mconcat_size\u001b[0m \u001b[0;34m=\u001b[0m \u001b[0msum\u001b[0m\u001b[0;34m(\u001b[0m\u001b[0mo\u001b[0m\u001b[0;34m.\u001b[0m\u001b[0mshape\u001b[0m\u001b[0;34m[\u001b[0m\u001b[0mdimension\u001b[0m\u001b[0;34m]\u001b[0m \u001b[0;32mfor\u001b[0m \u001b[0mo\u001b[0m \u001b[0;32min\u001b[0m \u001b[0moperands\u001b[0m\u001b[0;34m)\u001b[0m\u001b[0;34m\u001b[0m\u001b[0;34m\u001b[0m\u001b[0m\n",
      "\u001b[0;31mTypeError\u001b[0m: Cannot concatenate arrays with shapes that differ in dimensions other than the one being concatenated: concatenating along dimension 0 for shapes (11, 11, 1, 1), (11, 11, 2, 1)."
     ]
    }
   ],
   "source": [
    "h = np.linspace(-1,1,grid_s)\n",
    "H = np.stack(np.meshgrid(h,h),-1)[...,None]\n",
    "rnn(params,H,I).shape"
   ]
  },
  {
   "cell_type": "code",
   "execution_count": 188,
   "id": "7dfdb72e-58ac-4527-959e-27d26da826d7",
   "metadata": {},
   "outputs": [
    {
     "data": {
      "text/plain": [
       "(11, 11, 2, 1)"
      ]
     },
     "execution_count": 188,
     "metadata": {},
     "output_type": "execute_result"
    }
   ],
   "source": [
    "X.shape"
   ]
  },
  {
   "cell_type": "code",
   "execution_count": 138,
   "id": "66dee2a8-de12-4590-99e1-1b422690ef58",
   "metadata": {},
   "outputs": [],
   "source": [
    "#plt.plot(inp[:,:,0].T)\n",
    "#plt.plot(out[:,:,0].T)"
   ]
  },
  {
   "cell_type": "code",
   "execution_count": 208,
   "id": "4d166203-af53-4415-93a9-0ef9599ba40b",
   "metadata": {},
   "outputs": [],
   "source": [
    "#inp = np.array(data['stim'])[:,:,None]\n",
    "#out = rnn_run(params,inp)\n",
    "\n",
    "@jit\n",
    "def loss(y,targ,mask):\n",
    "    return np.mean(mask*(y-targ)**2)\n",
    "\n",
    "#vloss = vmap(loss,(0,None,None),0)\n",
    "\n",
    "@jit\n",
    "def L(params,inp,targ,mask):\n",
    "    out = rnn_run(params,inp)\n",
    "    print(out.shape,targ[None].shape,mask[None].shape)\n",
    "    return loss(out,targ[None],mask[None])\n",
    "\n",
    "\n",
    "\n",
    "vLgrad = jit(value_and_grad(L))"
   ]
  },
  {
   "cell_type": "code",
   "execution_count": 209,
   "id": "7c35ce13-9547-40dd-af0c-b208c946ef3b",
   "metadata": {
    "tags": []
   },
   "outputs": [],
   "source": [
    "#vLgrad(params,inp,targ,mask)"
   ]
  },
  {
   "cell_type": "code",
   "execution_count": 210,
   "id": "88e78d01-e28f-4747-8064-784c93ec986b",
   "metadata": {},
   "outputs": [],
   "source": [
    "def train(Params,\n",
    "          data,\n",
    "          key,\n",
    "          num_steps = 200,\n",
    "          sample_data = None,\n",
    "          learning_rate = 5e-2,\n",
    "          trial_bs = 200,\n",
    "          test_trial_bs = 20):\n",
    "    \n",
    "    params = Params.copy()\n",
    "    \n",
    "    \n",
    "    optimizer = optax.sgd(learning_rate)\n",
    "    opt_state = optimizer.init(params)\n",
    "    \n",
    "\n",
    "    def step_full(step, opt_state, params, data):\n",
    "        inp,targ,mask = data\n",
    "        #print(inp.shape,targ.shape,mask.shape)\n",
    "        value, grads = vLgrad(params,inp,targ,mask)\n",
    "        l = value\n",
    "        #l,X = lX\n",
    "        updates,opt_state = optimizer.update(grads,opt_state,params=params)\n",
    "        params = optax.apply_updates(params,updates)\n",
    "        #opt_state = opt_update(step, grads, opt_state)\n",
    "        return l, params, opt_state\n",
    "\n",
    "    def append_noise(skey,data,N,scale):\n",
    "        inp,task,mask = data\n",
    "        noise = random.normal(skey,(inp.shape[0],inp.shape[1],N)) * scale\n",
    "        inp = np.concatenate([inp,noise],-1) \n",
    "        return inp,task,mask\n",
    "\n",
    "    key,skeys = genkeys(key,num_steps*2+5)\n",
    "\n",
    "    loss_hist = []\n",
    "\n",
    "    X_hist = []\n",
    "\n",
    "    #N = params['wR'].shape[-1]\n",
    "\n",
    "\n",
    "    #task = vmap(task,0,0)\n",
    "\n",
    "    #key,skeys = genkeys_array(key,test_trial_bs)\n",
    "    #test_data = task(skeys)\n",
    "\n",
    "    for i in tqdm(np.arange(num_steps)):\n",
    "        key,skeys = genkeys_array(key,trial_bs)\n",
    "        #data = task(skeys)\n",
    "        key,skey = random.split(key)\n",
    "        #data = append_noise(skey,data,N,0.005)\n",
    "        #noise = random.normal(skey,shape = data[0].shape) * 1e-3\n",
    "        #data = (data[0]+noise,data[1],data[2])\n",
    "        value,  params, opt_state = step_full(i,opt_state,params,data)\n",
    "\n",
    "\n",
    "        #inp,targ,mask = sample_data\n",
    "        #params['wR'] = get_params(opt_state)\n",
    "        #state_t,_ = run(params,inp)\n",
    "\n",
    "        #if i%10==0:\n",
    "        #    X_hist.append(state_t)\n",
    "\n",
    "        loss_hist.append(value)  #test_err)\n",
    "    #tparams = get_params(opt_state)\n",
    "    tparams = params\n",
    "    return tparams,np.stack(loss_hist)"
   ]
  },
  {
   "cell_type": "code",
   "execution_count": 211,
   "id": "427c0cbe-d380-4b8b-86c3-af7607db5834",
   "metadata": {},
   "outputs": [
    {
     "data": {
      "application/vnd.jupyter.widget-view+json": {
       "model_id": "e45b5c341f9f475e86cb30bbb1775daa",
       "version_major": 2,
       "version_minor": 0
      },
      "text/plain": [
       "  0%|          | 0/10000 [00:00<?, ?it/s]"
      ]
     },
     "metadata": {},
     "output_type": "display_data"
    },
    {
     "name": "stdout",
     "output_type": "stream",
     "text": [
      "(1, 3, 34, 1) (1, 3, 34, 1) (1, 3, 34, 1)\n"
     ]
    }
   ],
   "source": [
    "with open('data/HHdata.pkl','rb') as f:\n",
    "    data = pkl.load(f)\n",
    "\n",
    "inp = np.array(data['stim'])[:,::150,None]/50\n",
    "targ = np.array(data['Vm'])[:,::150,None]/100\n",
    "#inp,targ = targ,inp\n",
    "#targ = np.ones(targ.shape)\n",
    "#inp = np.zeros(inp.shape)\n",
    "mask = np.ones(targ.shape)\n",
    "rdata = (inp,targ,mask)\n",
    "tparams,loss_hist = train(params,rdata,key,learning_rate=4e-2,num_steps = 10000)"
   ]
  },
  {
   "cell_type": "code",
   "execution_count": 212,
   "id": "37cb1242-146c-4322-a2a5-3b9cf2652575",
   "metadata": {},
   "outputs": [
    {
     "data": {
      "text/plain": [
       "((3, 34, 1), (3, 34, 1), (3, 34, 1))"
      ]
     },
     "execution_count": 212,
     "metadata": {},
     "output_type": "execute_result"
    }
   ],
   "source": [
    "inp.shape,targ.shape,mask.shape"
   ]
  },
  {
   "cell_type": "code",
   "execution_count": 142,
   "id": "237beb32-26ff-4238-93f3-ca25a4eecd3e",
   "metadata": {},
   "outputs": [
    {
     "data": {
      "text/plain": [
       "[<matplotlib.lines.Line2D at 0x14f5c0fa0>]"
      ]
     },
     "execution_count": 142,
     "metadata": {},
     "output_type": "execute_result"
    },
    {
     "data": {
      "image/png": "[encoded data removed]",
      "text/plain": [
       "<Figure size 432x288 with 1 Axes>"
      ]
     },
     "metadata": {
      "needs_background": "light"
     },
     "output_type": "display_data"
    }
   ],
   "source": [
    "plt.plot(loss_hist)"
   ]
  },
  {
   "cell_type": "code",
   "execution_count": 43,
   "id": "e79d132b-96b6-4f4e-9bfe-2f50a3f78f3a",
   "metadata": {},
   "outputs": [],
   "source": [
    "out_init = rnn_run(params,inp)\n",
    "out = rnn_run(tparams,inp)"
   ]
  },
  {
   "cell_type": "code",
   "execution_count": 44,
   "id": "91f69398-6d85-4ed8-9687-24ffeecc2a90",
   "metadata": {},
   "outputs": [
    {
     "data": {
      "text/plain": [
       "[<matplotlib.lines.Line2D at 0x14d3b37f0>]"
      ]
     },
     "execution_count": 44,
     "metadata": {},
     "output_type": "execute_result"
    },
    {
     "data": {
      "image/png": "[encoded data removed]",
      "text/plain": [
       "<Figure size 432x288 with 1 Axes>"
      ]
     },
     "metadata": {
      "needs_background": "light"
     },
     "output_type": "display_data"
    }
   ],
   "source": [
    "plt.plot(out_init[0,0,:,0].T,'.')\n",
    "plt.plot(out[0,0,:,0].T)\n",
    "plt.plot(targ[0,:,0].T)\n",
    "\n",
    "#plt.plot(inp[0,:,0])\n",
    "#inp = data['stim']\n",
    "#targ = data['Vm']\n",
    "#mask = np.ones(targ.shape)\n",
    "#rdata = (inp,targ,mask)"
   ]
  },
  {
   "cell_type": "code",
   "execution_count": 637,
   "id": "49a602ce-f438-46f5-b898-e3dd1ec47e80",
   "metadata": {},
   "outputs": [],
   "source": [
    "#plt.plot(inp[0,:,0])\n",
    "#plt.plot(targ[0,:,0])"
   ]
  },
  {
   "cell_type": "code",
   "execution_count": 638,
   "id": "5ebed592-e0ec-4afa-bb24-96c2259b6c19",
   "metadata": {
    "collapsed": true,
    "jupyter": {
     "outputs_hidden": true,
     "source_hidden": true
    },
    "tags": []
   },
   "outputs": [
    {
     "data": {
      "application/vnd.jupyter.widget-view+json": {
       "model_id": "60760734e3dd4f6c821bf3b7c243694c",
       "version_major": 2,
       "version_minor": 0
      },
      "text/plain": [
       "  0%|          | 0/200 [00:00<?, ?it/s]"
      ]
     },
     "metadata": {},
     "output_type": "display_data"
    },
    {
     "ename": "TypeError",
     "evalue": "'function' object is not subscriptable",
     "output_type": "error",
     "traceback": [
      "\u001b[0;31m---------------------------------------------------------------------------\u001b[0m",
      "\u001b[0;31mTypeError\u001b[0m                                 Traceback (most recent call last)",
      "\u001b[0;32m/var/folders/3w/z1hn2fsd0k76_7hjr7ntyz9r0000gn/T/ipykernel_57772/600898854.py\u001b[0m in \u001b[0;36m<module>\u001b[0;34m\u001b[0m\n\u001b[1;32m     22\u001b[0m     \u001b[0minp\u001b[0m \u001b[0;34m=\u001b[0m \u001b[0mnp\u001b[0m\u001b[0;34m.\u001b[0m\u001b[0mstack\u001b[0m\u001b[0;34m(\u001b[0m\u001b[0;34m[\u001b[0m\u001b[0minp1\u001b[0m\u001b[0;34m,\u001b[0m\u001b[0minp2\u001b[0m\u001b[0;34m,\u001b[0m\u001b[0mcue\u001b[0m\u001b[0;34m]\u001b[0m\u001b[0;34m,\u001b[0m\u001b[0;36m1\u001b[0m\u001b[0;34m)\u001b[0m\u001b[0;34m\u001b[0m\u001b[0;34m\u001b[0m\u001b[0m\n\u001b[1;32m     23\u001b[0m     \u001b[0;32mreturn\u001b[0m \u001b[0minp\u001b[0m\u001b[0;34m,\u001b[0m\u001b[0mtarg\u001b[0m\u001b[0;34m[\u001b[0m\u001b[0;34m...\u001b[0m\u001b[0;34m,\u001b[0m\u001b[0;32mNone\u001b[0m\u001b[0;34m]\u001b[0m\u001b[0;34m,\u001b[0m\u001b[0mmask\u001b[0m\u001b[0;34m[\u001b[0m\u001b[0;34m...\u001b[0m\u001b[0;34m,\u001b[0m\u001b[0;32mNone\u001b[0m\u001b[0;34m]\u001b[0m\u001b[0;34m\u001b[0m\u001b[0;34m\u001b[0m\u001b[0m\n\u001b[0;32m---> 24\u001b[0;31m \u001b[0mtparams\u001b[0m\u001b[0;34m,\u001b[0m\u001b[0mloss_hist\u001b[0m \u001b[0;34m=\u001b[0m \u001b[0mtrain\u001b[0m\u001b[0;34m(\u001b[0m\u001b[0mparams\u001b[0m\u001b[0;34m,\u001b[0m\u001b[0mddtask\u001b[0m\u001b[0;34m,\u001b[0m\u001b[0mkey\u001b[0m\u001b[0;34m,\u001b[0m\u001b[0mlearning_rate\u001b[0m\u001b[0;34m=\u001b[0m\u001b[0;36m1e-3\u001b[0m\u001b[0;34m)\u001b[0m\u001b[0;34m\u001b[0m\u001b[0;34m\u001b[0m\u001b[0m\n\u001b[0m",
      "\u001b[0;32m/var/folders/3w/z1hn2fsd0k76_7hjr7ntyz9r0000gn/T/ipykernel_57772/3996445265.py\u001b[0m in \u001b[0;36mtrain\u001b[0;34m(Params, data, key, num_steps, sample_data, learning_rate, trial_bs, test_trial_bs)\u001b[0m\n\u001b[1;32m     51\u001b[0m         \u001b[0mkey\u001b[0m\u001b[0;34m,\u001b[0m\u001b[0mskey\u001b[0m \u001b[0;34m=\u001b[0m \u001b[0mrandom\u001b[0m\u001b[0;34m.\u001b[0m\u001b[0msplit\u001b[0m\u001b[0;34m(\u001b[0m\u001b[0mkey\u001b[0m\u001b[0;34m)\u001b[0m\u001b[0;34m\u001b[0m\u001b[0;34m\u001b[0m\u001b[0m\n\u001b[1;32m     52\u001b[0m         \u001b[0;31m#data = append_noise(skey,data,N,0.005)\u001b[0m\u001b[0;34m\u001b[0m\u001b[0;34m\u001b[0m\u001b[0m\n\u001b[0;32m---> 53\u001b[0;31m         \u001b[0mnoise\u001b[0m \u001b[0;34m=\u001b[0m \u001b[0mrandom\u001b[0m\u001b[0;34m.\u001b[0m\u001b[0mnormal\u001b[0m\u001b[0;34m(\u001b[0m\u001b[0mskey\u001b[0m\u001b[0;34m,\u001b[0m\u001b[0mshape\u001b[0m \u001b[0;34m=\u001b[0m \u001b[0mdata\u001b[0m\u001b[0;34m[\u001b[0m\u001b[0;36m0\u001b[0m\u001b[0;34m]\u001b[0m\u001b[0;34m.\u001b[0m\u001b[0mshape\u001b[0m\u001b[0;34m)\u001b[0m \u001b[0;34m*\u001b[0m \u001b[0;36m1e-2\u001b[0m\u001b[0;34m\u001b[0m\u001b[0;34m\u001b[0m\u001b[0m\n\u001b[0m\u001b[1;32m     54\u001b[0m         \u001b[0mdata\u001b[0m \u001b[0;34m=\u001b[0m \u001b[0;34m(\u001b[0m\u001b[0mdata\u001b[0m\u001b[0;34m[\u001b[0m\u001b[0;36m0\u001b[0m\u001b[0;34m]\u001b[0m\u001b[0;34m+\u001b[0m\u001b[0mnoise\u001b[0m\u001b[0;34m,\u001b[0m\u001b[0mdata\u001b[0m\u001b[0;34m[\u001b[0m\u001b[0;36m1\u001b[0m\u001b[0;34m]\u001b[0m\u001b[0;34m,\u001b[0m\u001b[0mdata\u001b[0m\u001b[0;34m[\u001b[0m\u001b[0;36m2\u001b[0m\u001b[0;34m]\u001b[0m\u001b[0;34m)\u001b[0m\u001b[0;34m\u001b[0m\u001b[0;34m\u001b[0m\u001b[0m\n\u001b[1;32m     55\u001b[0m         \u001b[0mvalue\u001b[0m\u001b[0;34m,\u001b[0m  \u001b[0mparams\u001b[0m\u001b[0;34m,\u001b[0m \u001b[0mopt_state\u001b[0m \u001b[0;34m=\u001b[0m \u001b[0mstep_full\u001b[0m\u001b[0;34m(\u001b[0m\u001b[0mi\u001b[0m\u001b[0;34m,\u001b[0m\u001b[0mopt_state\u001b[0m\u001b[0;34m,\u001b[0m\u001b[0mparams\u001b[0m\u001b[0;34m,\u001b[0m\u001b[0mdata\u001b[0m\u001b[0;34m)\u001b[0m\u001b[0;34m\u001b[0m\u001b[0;34m\u001b[0m\u001b[0m\n",
      "\u001b[0;31mTypeError\u001b[0m: 'function' object is not subscriptable"
     ]
    }
   ],
   "source": [
    "def ddtask(key,inp_t_range1=(2,10),inp_t_range2=(7,10),amp_range=(1,2),cue_t_range=(3,7),targ_t_in = 5,targ_dur=6,T=30):\n",
    "    \"\"\"\n",
    "    Single input pulse, amplitude categorisation task.\n",
    "    \"\"\"\n",
    "    key,skeys = genkeys_array(key,10)\n",
    "    t1 = random.choice(skeys[0],inp_t_range1[1]-inp_t_range1[0]) + inp_t_range1[0]\n",
    "    amp1 = random.uniform(skeys[1]) * (amp_range[1]-amp_range[0]) + amp_range[0]\n",
    "    t2_ = random.choice(skeys[2],inp_t_range2[1]-inp_t_range2[0]) + inp_t_range2[0]\n",
    "    amp2 = random.uniform(skeys[3]) * (amp_range[1]-amp_range[0]) + amp_range[0]\n",
    "    t2 = t1 + t2_\n",
    "    inp1 = one_hot(t1,T) * amp1\n",
    "    inp2 = one_hot(t2,T) * amp2\n",
    "    cue_t = random.choice(skeys[0],cue_t_range[1]-cue_t_range[0]) + cue_t_range[0] + t2\n",
    "    targ = np.ones(T) * (amp1>amp2) * 2 - 1\n",
    "    cue = one_hot(cue_t,T)\n",
    "    targ_t = targ_t_in + cue_t\n",
    "    #targ_ts = np.arange(targ_t,targ_t+targ_dur)\n",
    "    counter = np.arange(T)\n",
    "    mask = (counter>=targ_t) * (counter<(targ_t+targ_dur)) * (np.tanh(10*(amp1-amp2))**2)\n",
    "    mask = mask.astype(inp1.dtype)\n",
    "    #mask = one_hot(targ_ts,T).sum(0)\n",
    "    inp = np.stack([inp1,inp2,cue],1)\n",
    "    return inp,targ[...,None],mask[...,None]\n",
    "tparams,loss_hist = train(params,ddtask,key,learning_rate=1e-3)"
   ]
  },
  {
   "cell_type": "code",
   "execution_count": 710,
   "id": "f41dc717-5bd6-4cd5-8ab5-bb1f5fa2a378",
   "metadata": {},
   "outputs": [
    {
     "name": "stdout",
     "output_type": "stream",
     "text": [
      "(10, 1, 50, 1) (1, 1, 50, 1)\n"
     ]
    },
    {
     "data": {
      "text/plain": [
       "DeviceArray([0.14629228, 0.14836165, 0.14816242, 0.14682671, 0.14719716,\n",
       "             0.13491048, 0.14682171, 0.14797105, 0.12774108, 0.14863178],            dtype=float32)"
      ]
     },
     "execution_count": 710,
     "metadata": {},
     "output_type": "execute_result"
    }
   ],
   "source": [
    "def loss_sep(y,targ,mask):\n",
    "    return np.mean(mask*(y-targ)**2,axis=(1,2,3))\n",
    "\n",
    "def Lsep(params,inp,targ,mask):\n",
    "    out = rnn_run(params,inp)\n",
    "    print(out.shape,mask[None].shape)\n",
    "    return loss_sep(out,targ[None],mask[None])\n",
    "Lsep(tparams,inp,targ,mask)"
   ]
  },
  {
   "cell_type": "code",
   "execution_count": null,
   "id": "20089cee-7f35-4078-9b68-d5a9e0748cd8",
   "metadata": {},
   "outputs": [],
   "source": []
  },
  {
   "cell_type": "code",
   "execution_count": 342,
   "id": "f508a32c-a58b-4d86-bd72-461248f86147",
   "metadata": {},
   "outputs": [],
   "source": [
    "with open('data/HHdata.pkl','rb') as f:\n",
    "    data = pkl.load(f)"
   ]
  },
  {
   "cell_type": "code",
   "execution_count": 96,
   "id": "b44b0126-4ffc-4eb7-a581-e526ed9cfea3",
   "metadata": {},
   "outputs": [],
   "source": [
    "#NP.genfromtxt('camp_proj.txt','delimiter=',')\n",
    "#plt.plot(values[0])"
   ]
  },
  {
   "cell_type": "code",
   "execution_count": 109,
   "id": "259037fa-69c2-4438-8290-1df8c6260c0b",
   "metadata": {},
   "outputs": [
    {
     "data": {
      "text/plain": [
       "[<matplotlib.lines.Line2D at 0x14d5911c0>]"
      ]
     },
     "execution_count": 109,
     "metadata": {},
     "output_type": "execute_result"
    },
    {
     "data": {
      "image/png": "[encoded data removed]",
      "text/plain": [
       "<Figure size 432x288 with 1 Axes>"
      ]
     },
     "metadata": {
      "needs_background": "light"
     },
     "output_type": "display_data"
    }
   ],
   "source": [
    "#plt.plot(values[0])\n",
    "#plt.plot(values[0])"
   ]
  },
  {
   "cell_type": "code",
   "execution_count": null,
   "id": "1f972d38-0cdf-41e7-b1e0-a68d1d1ce5e4",
   "metadata": {},
   "outputs": [],
   "source": []
  }
 ],
 "metadata": {
  "kernelspec": {
   "display_name": "Python 3 (ipykernel)",
   "language": "python",
   "name": "python3"
  },
  "language_info": {
   "codemirror_mode": {
    "name": "ipython",
    "version": 3
   },
   "file_extension": ".py",
   "mimetype": "text/x-python",
   "name": "python",
   "nbconvert_exporter": "python",
   "pygments_lexer": "ipython3",
   "version": "3.9.7"
  }
 },
 "nbformat": 4,
 "nbformat_minor": 5
}
