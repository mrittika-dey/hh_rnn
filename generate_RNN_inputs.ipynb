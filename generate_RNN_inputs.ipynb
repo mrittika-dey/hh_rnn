{
 "cells": [
  {
   "cell_type": "code",
   "execution_count": 4,
   "id": "07887b03",
   "metadata": {},
   "outputs": [],
   "source": [
    "from pylab import *\n",
    "import matplotlib.pyplot as plt\n",
    "rcParams['figure.figsize']=(12,3) "
   ]
  },
  {
   "cell_type": "code",
   "execution_count": 5,
   "id": "bd687d35",
   "metadata": {},
   "outputs": [],
   "source": [
    "from HH_functions import HH"
   ]
  },
  {
   "cell_type": "code",
   "execution_count": 6,
   "id": "f37f6876",
   "metadata": {},
   "outputs": [
    {
     "data": {
      "text/plain": [
       "(['def HH(I0,T0):\\n',\n",
       "  '    dt = 0.01;\\n',\n",
       "  '    T  = math.ceil(T0/dt)  # [ms]\\n',\n",
       "  '    gNa0 = 120   # [mS/cm^2]\\n',\n",
       "  '    ENa  = 115;  # [mV]\\n',\n",
       "  '    gK0  = 36;   # [mS/cm^2]\\n',\n",
       "  '    EK   = -12;  # [mV]\\n',\n",
       "  '    gL0  = 0.3;  # [mS/cm^2]\\n',\n",
       "  '    EL   = 10.6; # [mV]\\n',\n",
       "  '\\n',\n",
       "  '    t = np.arange(0,T)*dt\\n',\n",
       "  '    V = np.zeros([T,1])\\n',\n",
       "  '    m = np.zeros([T,1])\\n',\n",
       "  '    h = np.zeros([T,1])\\n',\n",
       "  '    n = np.zeros([T,1])\\n',\n",
       "  '\\n',\n",
       "  '    V[0]=-70.0\\n',\n",
       "  '    m[0]=0.05\\n',\n",
       "  '    h[0]=0.54\\n',\n",
       "  '    n[0]=0.34\\n',\n",
       "  '\\n',\n",
       "  '    for i in range(0,T-1):\\n',\n",
       "  '        V[i+1] = V[i] + dt*(gNa0*m[i]**3*h[i]*(ENa-(V[i]+65)) + gK0*n[i]**4*(EK-(V[i]+65)) + gL0*(EL-(V[i]+65)) + I0);\\n',\n",
       "  '        m[i+1] = m[i] + dt*(alphaM(V[i])*(1-m[i]) - betaM(V[i])*m[i]);\\n',\n",
       "  '        h[i+1] = h[i] + dt*(alphaH(V[i])*(1-h[i]) - betaH(V[i])*h[i]);\\n',\n",
       "  '        n[i+1] = n[i] + dt*(alphaN(V[i])*(1-n[i]) - betaN(V[i])*n[i]);\\n',\n",
       "  '    return V,m,h,n,t\\n'],\n",
       " 22)"
      ]
     },
     "execution_count": 6,
     "metadata": {},
     "output_type": "execute_result"
    }
   ],
   "source": [
    "import inspect\n",
    "inspect.getsourcelines(HH)"
   ]
  },
  {
   "cell_type": "code",
   "execution_count": 7,
   "id": "4e386980",
   "metadata": {},
   "outputs": [],
   "source": [
    "def Iproto(t):\n",
    "    return amp*(t>T1)*(t<T2)"
   ]
  },
  {
   "cell_type": "code",
   "execution_count": 8,
   "id": "5242e77d",
   "metadata": {},
   "outputs": [],
   "source": [
    "import numpy as np\n",
    "import math\n",
    "\n",
    "def alphaM(V):\n",
    "    return (2.5-0.1*(V+65)) / (np.exp(2.5-0.1*(V+65)) -1)\n",
    "\n",
    "def betaM(V):\n",
    "    return 4*np.exp(-(V+65)/18)\n",
    "\n",
    "def alphaH(V):\n",
    "    return 0.07*np.exp(-(V+65)/20)\n",
    "\n",
    "def betaH(V):\n",
    "    return 1/(np.exp(3.0-0.1*(V+65))+1)\n",
    "\n",
    "def alphaN(V):\n",
    "    return (0.1-0.01*(V+65)) / (np.exp(1-0.1*(V+65)) -1)\n",
    "\n",
    "def betaN(V):\n",
    "    return 0.125*np.exp(-(V+65)/80)\n",
    "\n",
    "def HH(Iproto,T0):\n",
    "    dt = 0.01;\n",
    "    T  = math.ceil(T0/dt)  # [ms]\n",
    "    gNa0 = 120   # [mS/cm^2]\n",
    "    ENa  = 115;  # [mV]\n",
    "    gK0  = 36;   # [mS/cm^2]\n",
    "    EK   = -12;  # [mV]\n",
    "    gL0  = 0.3;  # [mS/cm^2]\n",
    "    EL   = 10.6; # [mV]\n",
    "\n",
    "    t = np.arange(0,T)*dt\n",
    "    V = np.zeros([T,1])\n",
    "    m = np.zeros([T,1])\n",
    "    h = np.zeros([T,1])\n",
    "    n = np.zeros([T,1])\n",
    "\n",
    "    V[0]=-70.0\n",
    "    m[0]=0.05\n",
    "    h[0]=0.54\n",
    "    n[0]=0.34\n",
    "\n",
    "    for i in range(0,T-1):\n",
    "        V[i+1] = V[i] + dt*(gNa0*m[i]**3*h[i]*(ENa-(V[i]+65)) + gK0*n[i]**4*(EK-(V[i]+65)) + gL0*(EL-(V[i]+65)) + Iproto(t[i]));\n",
    "        m[i+1] = m[i] + dt*(alphaM(V[i])*(1-m[i]) - betaM(V[i])*m[i]);\n",
    "        h[i+1] = h[i] + dt*(alphaH(V[i])*(1-h[i]) - betaH(V[i])*h[i]);\n",
    "        n[i+1] = n[i] + dt*(alphaN(V[i])*(1-n[i]) - betaN(V[i])*n[i]);\n",
    "    return V,m,h,n,t\n"
   ]
  },
  {
   "cell_type": "code",
   "execution_count": null,
   "id": "9ad9f649",
   "metadata": {},
   "outputs": [],
   "source": [
    "T1,T2 = 100,400\n",
    "stim = np.arange(-10,100,5)\n",
    "dur = T2-T1\n",
    "T0 = 500\n",
    "dt=0.1\n",
    "for x in range(len(stim)):\n",
    "    amp = stim[x]\n",
    "    [V,m,h,n,t]=HH(Iproto,T0)\n",
    "    current_trace = np.stack([t,Iproto(t)])\n",
    "    np.savetxt(f'current_trace_{amp}.txt',current_trace)\n",
    "    variables = np.stack([V,m,n,h])[...,0]\n",
    "    np.savetxt(f'Stim_current_{amp}.txt',variables)\n",
    "    "
   ]
  }
 ],
 "metadata": {
  "kernelspec": {
   "display_name": "Python 3 (ipykernel)",
   "language": "python",
   "name": "python3"
  },
  "language_info": {
   "codemirror_mode": {
    "name": "ipython",
    "version": 3
   },
   "file_extension": ".py",
   "mimetype": "text/x-python",
   "name": "python",
   "nbconvert_exporter": "python",
   "pygments_lexer": "ipython3",
   "version": "3.9.12"
  }
 },
 "nbformat": 4,
 "nbformat_minor": 5
}
